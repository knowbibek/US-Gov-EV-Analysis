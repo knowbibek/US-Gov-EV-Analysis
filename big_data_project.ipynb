{
  "nbformat": 4,
  "nbformat_minor": 0,
  "metadata": {
    "colab": {
      "provenance": []
    },
    "kernelspec": {
      "name": "python3",
      "display_name": "Python 3"
    },
    "language_info": {
      "name": "python"
    }
  },
  "cells": [
    {
      "cell_type": "code",
      "execution_count": null,
      "metadata": {
        "collapsed": true,
        "id": "-2LJU0XtoQzT"
      },
      "outputs": [],
      "source": [
        "# Install Java\n",
        "!apt-get install openjdk-8-jdk-headless -qq > /dev/null\n",
        "\n",
        "# Download Spark 3.3.2 (working mirror)\n",
        "!wget -q https://archive.apache.org/dist/spark/spark-3.3.2/spark-3.3.2-bin-hadoop3.tgz\n",
        "\n",
        "# Extract Spark\n",
        "!tar -xvzf spark-3.3.2-bin-hadoop3.tgz\n",
        "\n",
        "# Install findspark\n",
        "!pip install -q findspark"
      ]
    },
    {
      "cell_type": "code",
      "source": [
        "import os\n",
        "import findspark\n",
        "\n",
        "os.environ[\"JAVA_HOME\"] = \"/usr/lib/jvm/java-8-openjdk-amd64\"\n",
        "os.environ[\"SPARK_HOME\"] = \"/content/spark-3.3.2-bin-hadoop3\"\n",
        "\n",
        "findspark.init()"
      ],
      "metadata": {
        "id": "Re1IrvnBqa_7"
      },
      "execution_count": null,
      "outputs": []
    },
    {
      "cell_type": "code",
      "source": [
        "from pyspark.sql import SparkSession\n",
        "\n",
        "spark = SparkSession.builder \\\n",
        "    .appName(\"US Gov Spending Analysis\") \\\n",
        "    .getOrCreate()\n",
        "\n",
        "spark"
      ],
      "metadata": {
        "id": "U8mll9YBqgHG"
      },
      "execution_count": null,
      "outputs": []
    },
    {
      "cell_type": "code",
      "source": [
        "from google.colab import files\n",
        "uploaded = files.upload()"
      ],
      "metadata": {
        "id": "fSxB6L2Arxty"
      },
      "execution_count": null,
      "outputs": []
    },
    {
      "cell_type": "code",
      "source": [
        "df = spark.read.csv(\"gov_spending.csv\", header=True, inferSchema=True)\n",
        "df.show()"
      ],
      "metadata": {
        "id": "SvAmz28asSoc"
      },
      "execution_count": null,
      "outputs": []
    },
    {
      "cell_type": "code",
      "source": [
        "df = spark.read.csv(\"gov_spending.csv\", header=True, inferSchema=True)\n",
        "df.show()"
      ],
      "metadata": {
        "id": "-pH1HX59t8Rd"
      },
      "execution_count": null,
      "outputs": []
    },
    {
      "cell_type": "code",
      "source": [
        "# Drop any rows with missing values (if needed)\n",
        "df_clean = df.dropna()\n",
        "\n",
        "# View data types\n",
        "df_clean.printSchema()\n",
        "\n",
        "# Optional: Show total number of rows\n",
        "print(\"Total Records:\", df_clean.count())"
      ],
      "metadata": {
        "id": "T2tUImJauDCJ"
      },
      "execution_count": null,
      "outputs": []
    },
    {
      "cell_type": "code",
      "source": [
        "df_clean.groupBy(\"Make\").count().orderBy(\"count\", ascending=False).show()"
      ],
      "metadata": {
        "id": "g0rsHfN6uHbf"
      },
      "execution_count": null,
      "outputs": []
    },
    {
      "cell_type": "code",
      "source": [
        "df_clean.groupBy(\"Model Year\").count().orderBy(\"Model Year\").show()"
      ],
      "metadata": {
        "id": "Bqha9xF2uYn-"
      },
      "execution_count": null,
      "outputs": []
    },
    {
      "cell_type": "code",
      "source": [
        "df_clean.groupBy(\"City\").count().orderBy(\"count\", ascending=False).show(10)"
      ],
      "metadata": {
        "id": "Gif_97xYube0"
      },
      "execution_count": null,
      "outputs": []
    },
    {
      "cell_type": "code",
      "source": [
        "df_clean.groupBy(\"Electric Vehicle Type\").count().orderBy(\"count\", ascending=False).show()"
      ],
      "metadata": {
        "id": "5eGQr9lcudlu"
      },
      "execution_count": null,
      "outputs": []
    },
    {
      "cell_type": "code",
      "source": [
        "df_clean.groupBy(\"County\").count().orderBy(\"count\", ascending=False).show()"
      ],
      "metadata": {
        "id": "05WhBYk1ugMm"
      },
      "execution_count": null,
      "outputs": []
    },
    {
      "cell_type": "code",
      "source": [
        "import matplotlib.pyplot as plt\n",
        "import pandas as pd\n",
        "\n",
        "top_makes = df_clean.groupBy(\"Make\").count().orderBy(\"count\", ascending=False).limit(10).toPandas()\n",
        "\n",
        "plt.figure(figsize=(10,6))\n",
        "plt.bar(top_makes['Make'], top_makes['count'])\n",
        "plt.title(\"Top 10 EV Makes in Washington\")\n",
        "plt.xticks(rotation=45)\n",
        "plt.xlabel(\"Make\")\n",
        "plt.ylabel(\"Count\")\n",
        "plt.tight_layout()\n",
        "plt.show()"
      ],
      "metadata": {
        "id": "w4zn44YMujHD"
      },
      "execution_count": null,
      "outputs": []
    },
    {
      "cell_type": "code",
      "source": [
        "!apt-get install graphviz -qq\n",
        "!pip install graphviz"
      ],
      "metadata": {
        "id": "5bSuNrLTvCGs"
      },
      "execution_count": null,
      "outputs": []
    },
    {
      "cell_type": "code",
      "source": [
        "from graphviz import Digraph\n",
        "\n",
        "dot = Digraph()\n",
        "\n",
        "dot.attr(rankdir='LR')  # Left to Right layout\n",
        "\n",
        "# Define nodes\n",
        "dot.node('A', 'CSV File\\n(gov_spending.csv)')\n",
        "dot.node('B', 'Google Colab')\n",
        "dot.node('C', 'PySpark DataFrame')\n",
        "dot.node('D', 'Data Cleaning\\n& Aggregation')\n",
        "dot.node('E', 'Spark Analysis\\n(Year, Make, City, Type)')\n",
        "dot.node('F', 'Visualizations\\n(Matplotlib Charts)')\n",
        "dot.node('G', 'Insights\\n& Trends')\n",
        "\n",
        "# Define edges\n",
        "dot.edge('A', 'B')\n",
        "dot.edge('B', 'C')\n",
        "dot.edge('C', 'D')\n",
        "dot.edge('D', 'E')\n",
        "dot.edge('E', 'F')\n",
        "dot.edge('F', 'G')\n",
        "\n",
        "# Display the diagram\n",
        "dot.render('pipeline_diagram', format='png', cleanup=False)\n",
        "dot"
      ],
      "metadata": {
        "id": "0kxmb_t_vFvE"
      },
      "execution_count": null,
      "outputs": []
    },
    {
      "cell_type": "code",
      "source": [
        "\n",
        "# ---------------- EV-registration quick-look ----------------\n",
        "# Upload your gov_spending.csv file when prompted and then run this cell.\n",
        "\n",
        "\n",
        "# 1️⃣  Imports & load\n",
        "import pandas as pd\n",
        "import matplotlib.pyplot as plt\n",
        "\n",
        "csv_name = next(iter(uploaded))\n",
        "df = pd.read_csv(csv_name)\n",
        "\n",
        "# 2️⃣  Registrations by model year\n",
        "year_counts = df['Model Year'].value_counts().sort_index()\n",
        "display(year_counts.to_frame('Registrations'))\n",
        "plt.figure()\n",
        "plt.plot(year_counts.index, year_counts.values, marker='o')\n",
        "plt.title('Vehicle registrations by model year')\n",
        "plt.xlabel('Model year')\n",
        "plt.ylabel('Number of vehicles')\n",
        "plt.grid(True)\n",
        "plt.show()\n",
        "\n",
        "# 3️⃣  Top 10 makes\n",
        "top_makes = df['Make'].value_counts().head(10)\n",
        "display(top_makes.to_frame('Registrations'))\n",
        "plt.figure()\n",
        "plt.barh(top_makes.index[::-1], top_makes.values[::-1])\n",
        "plt.title('Top 10 EV makes')\n",
        "plt.xlabel('Number of vehicles')\n",
        "plt.tight_layout()\n",
        "plt.show()\n",
        "\n",
        "# 4️⃣  BEV vs PHEV share\n",
        "type_counts = df['Electric Vehicle Type'].value_counts()\n",
        "display(type_counts.to_frame('Registrations'))\n",
        "plt.figure()\n",
        "plt.pie(type_counts.values,\n",
        "        labels=type_counts.index,\n",
        "        autopct='%1.1f%%',\n",
        "        startangle=140)\n",
        "plt.title('Battery-electric vs Plug-in hybrid')\n",
        "plt.show()\n",
        "\n",
        "# 5️⃣  Median range over time\n",
        "range_median = (df.groupby('Model Year')['Electric Range']\n",
        "                  .median()\n",
        "                  .dropna()\n",
        "                  .sort_index())\n",
        "display(range_median.to_frame('Median Range (mi)'))\n",
        "plt.figure()\n",
        "plt.plot(range_median.index, range_median.values, marker='o')\n",
        "plt.title('Median electric range by model year')\n",
        "plt.xlabel('Model year')\n",
        "plt.ylabel('Median range (miles)')\n",
        "plt.grid(True)\n",
        "plt.show()\n"
      ],
      "metadata": {
        "id": "cyBj2B3HQHz9"
      },
      "execution_count": null,
      "outputs": []
    },
    {
      "cell_type": "markdown",
      "source": [
        "1. Forecast total registrations per model year"
      ],
      "metadata": {
        "id": "uU6MXFRMSUbL"
      }
    },
    {
      "cell_type": "code",
      "source": [
        "from sklearn.linear_model import LinearRegression\n",
        "import numpy as np\n",
        "import pandas as pd\n",
        "import matplotlib.pyplot as plt\n",
        "\n",
        "# --- prep the target series ---\n",
        "year_counts = df['Model Year'].value_counts().sort_index()\n",
        "X = year_counts.index.values.reshape(-1, 1)         # 2-D for sklearn\n",
        "y = year_counts.values\n",
        "\n",
        "# --- fit simple linear model ---\n",
        "lin = LinearRegression().fit(X, y)\n",
        "\n",
        "# --- predict next 3 years ---\n",
        "future_years = np.array([2025, 2026, 2027]).reshape(-1, 1)\n",
        "future_pred  = lin.predict(future_years)\n",
        "\n",
        "# --- combine & plot ---\n",
        "proj = pd.Series(future_pred, index=future_years.flatten(), name='Predicted')\n",
        "combined = pd.concat([year_counts.rename('Actual'), proj])\n",
        "combined.plot(marker='o', figsize=(8,4))\n",
        "plt.title('EV registrations • history vs 3-yr linear projection')\n",
        "plt.ylabel('Vehicles'); plt.xlabel('Model year'); plt.grid(True)\n",
        "plt.show()\n",
        "\n",
        "print(combined.tail(3))"
      ],
      "metadata": {
        "id": "rhPl8_qZSW-h"
      },
      "execution_count": null,
      "outputs": []
    },
    {
      "cell_type": "markdown",
      "source": [
        "2. Forecast median electric range"
      ],
      "metadata": {
        "id": "piSRrL_ISglB"
      }
    },
    {
      "cell_type": "code",
      "source": [
        "from sklearn.linear_model import LinearRegression\n",
        "import numpy as np\n",
        "\n",
        "range_median = (df.groupby('Model Year')['Electric Range']\n",
        "                  .median().dropna().sort_index())\n",
        "\n",
        "X = range_median.index.values.reshape(-1,1)\n",
        "y = range_median.values\n",
        "\n",
        "lin = LinearRegression().fit(X, y)\n",
        "future_pred = lin.predict(future_years)\n",
        "\n",
        "proj = pd.Series(future_pred, index=future_years.flatten(), name='Predicted')\n",
        "combined = pd.concat([range_median.rename('Actual'), proj])\n",
        "\n",
        "combined.plot(marker='o', figsize=(8,4))\n",
        "plt.title('Median EPA range • history vs 3-yr projection')\n",
        "plt.ylabel('Miles'); plt.xlabel('Model year'); plt.grid(True)\n",
        "plt.show()\n",
        "\n",
        "print(combined.tail(3))"
      ],
      "metadata": {
        "id": "FJ-WoeA_Shbp"
      },
      "execution_count": null,
      "outputs": []
    },
    {
      "cell_type": "markdown",
      "source": [
        "3. Forecast BEV share vs PHEV"
      ],
      "metadata": {
        "id": "Gg1XqXCOSlHe"
      }
    },
    {
      "cell_type": "code",
      "source": [
        "share = (df.groupby('Model Year')['Electric Vehicle Type']\n",
        "           .value_counts(normalize=True)\n",
        "           .loc[:, 'Battery Electric Vehicle (BEV)']\n",
        "           .sort_index())\n",
        "\n",
        "X = share.index.values.reshape(-1,1)\n",
        "y = share.values\n",
        "\n",
        "lin = LinearRegression().fit(X, y)\n",
        "future_pred = lin.predict(future_years).clip(0,1)   # keep inside 0–1\n",
        "\n",
        "proj = pd.Series(future_pred, index=future_years.flatten(), name='Predicted BEV share')\n",
        "combined = pd.concat([share.rename('Actual BEV share'), proj])\n",
        "\n",
        "combined.plot(marker='o', figsize=(8,4))\n",
        "plt.title('BEV fleet share • history vs 3-yr projection')\n",
        "plt.ylabel('Share of registrations'); plt.xlabel('Model year'); plt.grid(True)\n",
        "plt.show()\n",
        "\n",
        "print((combined.tail(3)*100).round(1).astype(str) + '%')"
      ],
      "metadata": {
        "id": "wUHs384MSmtN"
      },
      "execution_count": null,
      "outputs": []
    }
  ]
}